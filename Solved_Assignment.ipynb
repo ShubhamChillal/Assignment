{
 "cells": [
  {
   "cell_type": "markdown",
   "id": "a6906c42",
   "metadata": {},
   "source": [
    "# Solved Assignment"
   ]
  },
  {
   "cell_type": "markdown",
   "id": "384d8a27",
   "metadata": {},
   "source": [
    "-by Shubham Chillal"
   ]
  },
  {
   "cell_type": "markdown",
   "id": "b8f87a7a",
   "metadata": {},
   "source": [
    "***"
   ]
  },
  {
   "cell_type": "markdown",
   "id": "ad2589df",
   "metadata": {},
   "source": [
    "### Importing Libraries:"
   ]
  },
  {
   "cell_type": "code",
   "execution_count": 1,
   "id": "9bdbd31c",
   "metadata": {},
   "outputs": [],
   "source": [
    "import requests\n",
    "from zipfile import ZipFile\n",
    "import numpy as np\n",
    "import pandas as pd\n",
    "import datetime as dt\n",
    "from forex_python.bitcoin import BtcConverter"
   ]
  },
  {
   "cell_type": "markdown",
   "id": "02c0b97b",
   "metadata": {},
   "source": [
    "### Saving the links for the data:"
   ]
  },
  {
   "cell_type": "code",
   "execution_count": 2,
   "id": "eff9cb8f",
   "metadata": {
    "scrolled": false
   },
   "outputs": [],
   "source": [
    "m1=requests.get(\"https://data.binance.vision/data/spot/daily/trades/BTCUSDT/BTCUSDT-trades-2022-03-01.zip\")\n",
    "m2=requests.get(\"https://data.binance.vision/data/spot/daily/trades/BTCUSDT/BTCUSDT-trades-2022-03-02.zip\")\n",
    "m3=requests.get(\"https://data.binance.vision/data/spot/daily/trades/BTCUSDT/BTCUSDT-trades-2022-03-03.zip\")\n",
    "m4=requests.get(\"https://data.binance.vision/data/spot/daily/trades/BTCUSDT/BTCUSDT-trades-2022-03-04.zip\")\n",
    "links=[m1,m2,m3,m4]"
   ]
  },
  {
   "cell_type": "markdown",
   "id": "ad01a1e7",
   "metadata": {},
   "source": [
    "***"
   ]
  },
  {
   "cell_type": "markdown",
   "id": "6be62ce4",
   "metadata": {},
   "source": [
    "### Assignment I - Basic Python - 3 points\n",
    "\n",
    "The purpose of this assignment is to assess your ability to use Python to retrieve a large public dataset and store it in memory using Pandas for further analysis. The documentation and endpoint is laid out below this section. You are expected to retrieve data at the tick level for BTCUSDT for the first 3 days of March."
   ]
  },
  {
   "cell_type": "code",
   "execution_count": 3,
   "id": "f5efda92",
   "metadata": {},
   "outputs": [
    {
     "data": {
      "text/plain": [
       "[['BTCUSDT-trades-2022-03-01.csv'],\n",
       " ['BTCUSDT-trades-2022-03-02.csv'],\n",
       " ['BTCUSDT-trades-2022-03-03.csv'],\n",
       " ['BTCUSDT-trades-2022-03-04.csv']]"
      ]
     },
     "execution_count": 3,
     "metadata": {},
     "output_type": "execute_result"
    }
   ],
   "source": [
    "# Downloading and extracting the zip files:\n",
    "\n",
    "csv_files=[]\n",
    "for link in links:\n",
    "    with open(\"data\",\"wb\") as f:\n",
    "        f.write(link.content)\n",
    "    with ZipFile(\"data\",\"r\")as data_zip:\n",
    "        data_zip.extractall()\n",
    "    csv_files.append(data_zip.namelist()) #Storing name of csv files to further access them\n",
    "\n",
    "csv_files    "
   ]
  },
  {
   "cell_type": "code",
   "execution_count": 4,
   "id": "01ac3a29",
   "metadata": {},
   "outputs": [
    {
     "data": {
      "text/html": [
       "<div>\n",
       "<style scoped>\n",
       "    .dataframe tbody tr th:only-of-type {\n",
       "        vertical-align: middle;\n",
       "    }\n",
       "\n",
       "    .dataframe tbody tr th {\n",
       "        vertical-align: top;\n",
       "    }\n",
       "\n",
       "    .dataframe thead th {\n",
       "        text-align: right;\n",
       "    }\n",
       "</style>\n",
       "<table border=\"1\" class=\"dataframe\">\n",
       "  <thead>\n",
       "    <tr style=\"text-align: right;\">\n",
       "      <th></th>\n",
       "      <th>trade Id</th>\n",
       "      <th>Traded_Price</th>\n",
       "      <th>Traded_Size</th>\n",
       "      <th>Traded_Notional</th>\n",
       "      <th>Timestamp</th>\n",
       "      <th>isBuyerMaker</th>\n",
       "      <th>isBestMatch</th>\n",
       "    </tr>\n",
       "  </thead>\n",
       "  <tbody>\n",
       "    <tr>\n",
       "      <th>0</th>\n",
       "      <td>1274557543</td>\n",
       "      <td>43160.00</td>\n",
       "      <td>0.00056</td>\n",
       "      <td>24.169600</td>\n",
       "      <td>1646092800000</td>\n",
       "      <td>True</td>\n",
       "      <td>True</td>\n",
       "    </tr>\n",
       "    <tr>\n",
       "      <th>1</th>\n",
       "      <td>1274557544</td>\n",
       "      <td>43160.01</td>\n",
       "      <td>0.00052</td>\n",
       "      <td>22.443205</td>\n",
       "      <td>1646092800003</td>\n",
       "      <td>False</td>\n",
       "      <td>True</td>\n",
       "    </tr>\n",
       "    <tr>\n",
       "      <th>2</th>\n",
       "      <td>1274557545</td>\n",
       "      <td>43160.01</td>\n",
       "      <td>0.00182</td>\n",
       "      <td>78.551218</td>\n",
       "      <td>1646092800004</td>\n",
       "      <td>False</td>\n",
       "      <td>True</td>\n",
       "    </tr>\n",
       "  </tbody>\n",
       "</table>\n",
       "</div>"
      ],
      "text/plain": [
       "     trade Id  Traded_Price  Traded_Size  Traded_Notional      Timestamp  \\\n",
       "0  1274557543      43160.00      0.00056        24.169600  1646092800000   \n",
       "1  1274557544      43160.01      0.00052        22.443205  1646092800003   \n",
       "2  1274557545      43160.01      0.00182        78.551218  1646092800004   \n",
       "\n",
       "   isBuyerMaker  isBestMatch  \n",
       "0          True         True  \n",
       "1         False         True  \n",
       "2         False         True  "
      ]
     },
     "execution_count": 4,
     "metadata": {},
     "output_type": "execute_result"
    }
   ],
   "source": [
    "# Combinning all the data and mentioning column names:\n",
    "column_names=[\"trade Id\",\"Traded_Price\",\"Traded_Size\",\"Traded_Notional\",\"Timestamp\",\"isBuyerMaker\",\"isBestMatch\"]\n",
    "\n",
    "df_li=[]\n",
    "for file in csv_files:\n",
    "    df=pd.read_csv(file[0],names=column_names)\n",
    "    df_li.append(df)\n",
    "    \n",
    "df=pd.concat(df_li,axis=0,ignore_index=True)\n",
    "df.head(3)"
   ]
  },
  {
   "cell_type": "code",
   "execution_count": 5,
   "id": "550ed888",
   "metadata": {
    "scrolled": true
   },
   "outputs": [
    {
     "data": {
      "text/html": [
       "<div>\n",
       "<style scoped>\n",
       "    .dataframe tbody tr th:only-of-type {\n",
       "        vertical-align: middle;\n",
       "    }\n",
       "\n",
       "    .dataframe tbody tr th {\n",
       "        vertical-align: top;\n",
       "    }\n",
       "\n",
       "    .dataframe thead th {\n",
       "        text-align: right;\n",
       "    }\n",
       "</style>\n",
       "<table border=\"1\" class=\"dataframe\">\n",
       "  <thead>\n",
       "    <tr style=\"text-align: right;\">\n",
       "      <th></th>\n",
       "      <th>trade Id</th>\n",
       "      <th>Traded_Price</th>\n",
       "      <th>Traded_Size</th>\n",
       "      <th>Traded_Notional</th>\n",
       "      <th>Timestamp</th>\n",
       "      <th>isBuyerMaker</th>\n",
       "      <th>isBestMatch</th>\n",
       "    </tr>\n",
       "  </thead>\n",
       "  <tbody>\n",
       "    <tr>\n",
       "      <th>0</th>\n",
       "      <td>1274557543</td>\n",
       "      <td>43160.00</td>\n",
       "      <td>0.00056</td>\n",
       "      <td>24.169600</td>\n",
       "      <td>2022-02-28 13:00:00.000</td>\n",
       "      <td>True</td>\n",
       "      <td>True</td>\n",
       "    </tr>\n",
       "    <tr>\n",
       "      <th>1</th>\n",
       "      <td>1274557544</td>\n",
       "      <td>43160.01</td>\n",
       "      <td>0.00052</td>\n",
       "      <td>22.443205</td>\n",
       "      <td>2022-02-28 13:00:00.003</td>\n",
       "      <td>False</td>\n",
       "      <td>True</td>\n",
       "    </tr>\n",
       "    <tr>\n",
       "      <th>2</th>\n",
       "      <td>1274557545</td>\n",
       "      <td>43160.01</td>\n",
       "      <td>0.00182</td>\n",
       "      <td>78.551218</td>\n",
       "      <td>2022-02-28 13:00:00.004</td>\n",
       "      <td>False</td>\n",
       "      <td>True</td>\n",
       "    </tr>\n",
       "  </tbody>\n",
       "</table>\n",
       "</div>"
      ],
      "text/plain": [
       "     trade Id  Traded_Price  Traded_Size  Traded_Notional  \\\n",
       "0  1274557543      43160.00      0.00056        24.169600   \n",
       "1  1274557544      43160.01      0.00052        22.443205   \n",
       "2  1274557545      43160.01      0.00182        78.551218   \n",
       "\n",
       "                Timestamp  isBuyerMaker  isBestMatch  \n",
       "0 2022-02-28 13:00:00.000          True         True  \n",
       "1 2022-02-28 13:00:00.003         False         True  \n",
       "2 2022-02-28 13:00:00.004         False         True  "
      ]
     },
     "execution_count": 5,
     "metadata": {},
     "output_type": "execute_result"
    }
   ],
   "source": [
    "#Converting Timestamp into meaningfull format:\n",
    "df.Timestamp=[dt.datetime.fromtimestamp(x/1000.0) for x in df.Timestamp]\n",
    "df.head(3)"
   ]
  },
  {
   "cell_type": "code",
   "execution_count": 6,
   "id": "b4d8358c",
   "metadata": {
    "scrolled": false
   },
   "outputs": [
    {
     "name": "stdout",
     "output_type": "stream",
     "text": [
      "------------------------------------------------------------ \n",
      " Start time of Data : 2022-03-01 00:00:00 \n",
      " End time of Data : 2022-03-03 23:59:59.999000 \n",
      " ------------------------------------------------------------\n"
     ]
    },
    {
     "data": {
      "text/html": [
       "<div>\n",
       "<style scoped>\n",
       "    .dataframe tbody tr th:only-of-type {\n",
       "        vertical-align: middle;\n",
       "    }\n",
       "\n",
       "    .dataframe tbody tr th {\n",
       "        vertical-align: top;\n",
       "    }\n",
       "\n",
       "    .dataframe thead th {\n",
       "        text-align: right;\n",
       "    }\n",
       "</style>\n",
       "<table border=\"1\" class=\"dataframe\">\n",
       "  <thead>\n",
       "    <tr style=\"text-align: right;\">\n",
       "      <th></th>\n",
       "      <th>Traded_Price</th>\n",
       "      <th>Traded_Size</th>\n",
       "      <th>Traded_Notional</th>\n",
       "      <th>Timestamp</th>\n",
       "    </tr>\n",
       "  </thead>\n",
       "  <tbody>\n",
       "    <tr>\n",
       "      <th>0</th>\n",
       "      <td>43578.88</td>\n",
       "      <td>0.00106</td>\n",
       "      <td>46.193613</td>\n",
       "      <td>2022-03-01 00:00:00.000</td>\n",
       "    </tr>\n",
       "    <tr>\n",
       "      <th>1</th>\n",
       "      <td>43578.88</td>\n",
       "      <td>0.00065</td>\n",
       "      <td>28.326272</td>\n",
       "      <td>2022-03-01 00:00:00.002</td>\n",
       "    </tr>\n",
       "    <tr>\n",
       "      <th>2</th>\n",
       "      <td>43578.87</td>\n",
       "      <td>0.00431</td>\n",
       "      <td>187.824930</td>\n",
       "      <td>2022-03-01 00:00:00.004</td>\n",
       "    </tr>\n",
       "    <tr>\n",
       "      <th>3</th>\n",
       "      <td>43578.87</td>\n",
       "      <td>0.00036</td>\n",
       "      <td>15.688393</td>\n",
       "      <td>2022-03-01 00:00:00.005</td>\n",
       "    </tr>\n",
       "    <tr>\n",
       "      <th>4</th>\n",
       "      <td>43578.87</td>\n",
       "      <td>0.00063</td>\n",
       "      <td>27.454688</td>\n",
       "      <td>2022-03-01 00:00:00.005</td>\n",
       "    </tr>\n",
       "  </tbody>\n",
       "</table>\n",
       "</div>"
      ],
      "text/plain": [
       "   Traded_Price  Traded_Size  Traded_Notional               Timestamp\n",
       "0      43578.88      0.00106        46.193613 2022-03-01 00:00:00.000\n",
       "1      43578.88      0.00065        28.326272 2022-03-01 00:00:00.002\n",
       "2      43578.87      0.00431       187.824930 2022-03-01 00:00:00.004\n",
       "3      43578.87      0.00036        15.688393 2022-03-01 00:00:00.005\n",
       "4      43578.87      0.00063        27.454688 2022-03-01 00:00:00.005"
      ]
     },
     "execution_count": 6,
     "metadata": {},
     "output_type": "execute_result"
    }
   ],
   "source": [
    "# As mentioned in the question, slicing the data of first three days of march:\n",
    "# And including only needed columns:\n",
    "\n",
    "March_01_03=df[[\"Traded_Price\",\"Traded_Size\",\"Traded_Notional\",\"Timestamp\"]][(df.Timestamp>'2022-02-28 23:59:59.999000')&(df.Timestamp<'2022-03-04 00:00:00.00')].reset_index(drop=True)\n",
    "print(\"-\"*60,\"\\n\",\"Start time of Data :\",March_01_03.Timestamp.min(),\"\\n\",\"End time of Data :\",March_01_03.Timestamp.max(),\"\\n\",\"-\"*60)\n",
    "\n",
    "March_01_03.head()"
   ]
  },
  {
   "cell_type": "markdown",
   "id": "439b70a8",
   "metadata": {},
   "source": [
    "***"
   ]
  },
  {
   "cell_type": "markdown",
   "id": "1af84a92",
   "metadata": {},
   "source": [
    "### Assignment II - Simple Forward Looking Market Making Strategy - 5 points \n",
    "You may use any Python library you are familiar with to do this, but pandas and backtrader are preferred. Using the above dataset, you are to create a Market Making strategy in Python that uses the above data, and run the following strategy on it:\n",
    "* Bid Size and Offer Size = 1000 USD notional (note, the actual traded base quantity on Binance BTCUSDT is BTC, so you will need to convert the Sizes to the equivalent BTC amount at every quote “refresh”\n",
    "* Buy and Sell Margins = 3 basis points i.e. the distance between your bid or offer quote and the mid market in absolute terms.\n",
    "* Maximum position before hedging = 5000 USD notional i.e. if your position exceeds this either on the buy or sell side, your strategy stops quoting on that side of the market and hedges your position. If your strategy uses a market order to exit the position, you will be rewarded one less point. A passive hedger approach will be rewarded full points upon completion.\n",
    "* You may assume that the latencies in each step of the market maker is 100 milliseconds. A realistic random latency would be closer to the “real” result.\n",
    "* You may assume that the cost of trading is zero i.e. there are no commissions\n",
    "* You may assume that a trade match happens when the trading price “crosses” your bid or offer order, for simplicity.\n",
    "\n",
    "The output of the trades generated from this strategy should reside in a different dataframe, for the next step. Completion upto this point in the Assignment Set would reward a maximum of 7 points.\n"
   ]
  },
  {
   "cell_type": "code",
   "execution_count": 7,
   "id": "9a39dc06",
   "metadata": {},
   "outputs": [],
   "source": [
    "# Conversion of 1BTC to USD\n",
    "b = BtcConverter()\n",
    "BTC_in_USD=b.get_latest_price('USD')"
   ]
  },
  {
   "cell_type": "code",
   "execution_count": 8,
   "id": "d9002b09",
   "metadata": {},
   "outputs": [
    {
     "data": {
      "text/plain": [
       "40128.4467"
      ]
     },
     "execution_count": 8,
     "metadata": {},
     "output_type": "execute_result"
    }
   ],
   "source": [
    "BTC_in_USD"
   ]
  },
  {
   "cell_type": "markdown",
   "id": "a9b5e111",
   "metadata": {},
   "source": [
    "***"
   ]
  }
 ],
 "metadata": {
  "kernelspec": {
   "display_name": "Python 3",
   "language": "python",
   "name": "python3"
  },
  "language_info": {
   "codemirror_mode": {
    "name": "ipython",
    "version": 3
   },
   "file_extension": ".py",
   "mimetype": "text/x-python",
   "name": "python",
   "nbconvert_exporter": "python",
   "pygments_lexer": "ipython3",
   "version": "3.8.8"
  }
 },
 "nbformat": 4,
 "nbformat_minor": 5
}
